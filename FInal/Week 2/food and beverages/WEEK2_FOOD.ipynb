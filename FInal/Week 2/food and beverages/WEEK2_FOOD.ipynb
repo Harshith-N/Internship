{
 "cells": [
  {
   "cell_type": "markdown",
   "id": "9d425129-91ed-4817-94b3-3237063c2982",
   "metadata": {},
   "source": [
    "**FOOD AND BEVERAGES**"
   ]
  },
  {
   "cell_type": "markdown",
   "id": "0ead1f2e-3f7d-4b6f-ab97-ef9d40b5bb22",
   "metadata": {},
   "source": [
    "FOR CLEANING DATA ABOUT CAFES"
   ]
  },
  {
   "cell_type": "code",
   "execution_count": 1,
   "id": "0ff39ec9-e797-46d7-a70c-a91bd333b2b8",
   "metadata": {},
   "outputs": [
    {
     "name": "stdout",
     "output_type": "stream",
     "text": [
      "Cleaned data saved to //Users/harshith/Desktop/untitled folder 3/food and beverages/cafe.csv\n"
     ]
    }
   ],
   "source": [
    "import pandas as pd\n",
    "import re\n",
    "\n",
    "# Define a function to perform the data cleaning tasks\n",
    "def clean_text(text):\n",
    "    # Convert to lowercase\n",
    "    text = text.lower()\n",
    "    # Remove links (URLs)\n",
    "    text = re.sub(r'http\\S+', '', text)\n",
    "    \n",
    "    # Remove punctuation and symbols\n",
    "    text = re.sub(r'[^\\w\\s]', ' ', text)\n",
    "    \n",
    "    # Remove @user mentions\n",
    "    text = re.sub(r'@\\w+', '', text)\n",
    "    \n",
    "    # Remove hashtags\n",
    "    text = re.sub(r'#\\w+', '', text)\n",
    "    \n",
    "   \n",
    "    \n",
    "    return text\n",
    "\n",
    "# Load the data from an Excel file\n",
    "file_path = \"/Users/harshith/Downloads/WEEK2/Food and Beverages/cafe refresh.csv\"\n",
    "df = pd.read_csv(file_path)\n",
    "\n",
    "# Apply the cleaning function to the specified column\n",
    "df['full_text'] = df['full_text'].apply(clean_text)\n",
    "# Remove duplicates\n",
    "df.drop_duplicates(subset=['full_text'], inplace=True)\n",
    "\n",
    "# Remove rows with null values\n",
    "df.dropna(subset=['full_text'], inplace=True)\n",
    "\n",
    "# Save the cleaned data back to a new Excel file\n",
    "cleaned_file_path = \"//Users/harshith/Desktop/untitled folder 3/food and beverages/cafe.csv\"\n",
    "df.to_csv(cleaned_file_path, index=False)\n",
    "\n",
    "print(f\"Cleaned data saved to {cleaned_file_path}\")"
   ]
  },
  {
   "cell_type": "code",
   "execution_count": 2,
   "id": "9d411e6a-78da-4bdd-8934-a77ef453d488",
   "metadata": {},
   "outputs": [
    {
     "name": "stdout",
     "output_type": "stream",
     "text": [
      "Cleaned data saved to //Users/harshith/Desktop/untitled folder 3/food and beverages/foodcourt.csv\n"
     ]
    }
   ],
   "source": [
    "import pandas as pd\n",
    "import re\n",
    "\n",
    "# Define a function to perform the data cleaning tasks\n",
    "def clean_text(text):\n",
    "    # Convert to lowercase\n",
    "    text = text.lower()\n",
    "    # Remove links (URLs)\n",
    "    text = re.sub(r'http\\S+', '', text)\n",
    "    \n",
    "    # Remove punctuation and symbols\n",
    "    text = re.sub(r'[^\\w\\s]', ' ', text)\n",
    "    \n",
    "    # Remove @user mentions\n",
    "    text = re.sub(r'@\\w+', '', text)\n",
    "    \n",
    "    # Remove hashtags\n",
    "    text = re.sub(r'#\\w+', '', text)\n",
    "    \n",
    "   \n",
    "    \n",
    "    return text\n",
    "\n",
    "# Load the data from an Excel file\n",
    "file_path = \"/Users/harshith/Downloads/WEEK2/Food and Beverages/foodcourt.csv\"\n",
    "df = pd.read_csv(file_path)\n",
    "\n",
    "# Apply the cleaning function to the specified column\n",
    "df['full_text'] = df['full_text'].apply(clean_text)\n",
    "# Remove duplicates\n",
    "df.drop_duplicates(subset=['full_text'], inplace=True)\n",
    "\n",
    "# Remove rows with null values\n",
    "df.dropna(subset=['full_text'], inplace=True)\n",
    "\n",
    "# Save the cleaned data back to a new Excel file\n",
    "cleaned_file_path = \"//Users/harshith/Desktop/untitled folder 3/food and beverages/foodcourt.csv\"\n",
    "df.to_csv(cleaned_file_path, index=False)\n",
    "\n",
    "print(f\"Cleaned data saved to {cleaned_file_path}\")"
   ]
  },
  {
   "cell_type": "code",
   "execution_count": 3,
   "id": "07f30c22-214c-4508-9d51-e0dbb8a975e1",
   "metadata": {},
   "outputs": [
    {
     "name": "stdout",
     "output_type": "stream",
     "text": [
      "Cleaned data saved to //Users/harshith/Desktop/untitled folder 3/food and beverages/restaurant.csv\n"
     ]
    }
   ],
   "source": [
    "import pandas as pd\n",
    "import re\n",
    "\n",
    "# Define a function to perform the data cleaning tasks\n",
    "def clean_text(text):\n",
    "    # Convert to lowercase\n",
    "    text = text.lower()\n",
    "    # Remove links (URLs)\n",
    "    text = re.sub(r'http\\S+', '', text)\n",
    "    \n",
    "    # Remove punctuation and symbols\n",
    "    text = re.sub(r'[^\\w\\s]', ' ', text)\n",
    "    \n",
    "    # Remove @user mentions\n",
    "    text = re.sub(r'@\\w+', '', text)\n",
    "    \n",
    "    # Remove hashtags\n",
    "    text = re.sub(r'#\\w+', '', text)\n",
    "    \n",
    "   \n",
    "    \n",
    "    return text\n",
    "\n",
    "# Load the data from an Excel file\n",
    "file_path = \"/Users/harshith/Downloads/WEEK2/Food and Beverages/restaurant refresh.csv\"\n",
    "df = pd.read_csv(file_path)\n",
    "\n",
    "# Apply the cleaning function to the specified column\n",
    "df['full_text'] = df['full_text'].apply(clean_text)\n",
    "# Remove duplicates\n",
    "df.drop_duplicates(subset=['full_text'], inplace=True)\n",
    "\n",
    "# Remove rows with null values\n",
    "df.dropna(subset=['full_text'], inplace=True)\n",
    "\n",
    "# Save the cleaned data back to a new Excel file\n",
    "cleaned_file_path = \"//Users/harshith/Desktop/untitled folder 3/food and beverages/restaurant.csv\"\n",
    "df.to_csv(cleaned_file_path, index=False)\n",
    "\n",
    "print(f\"Cleaned data saved to {cleaned_file_path}\")"
   ]
  },
  {
   "cell_type": "code",
   "execution_count": null,
   "id": "31d3b555-0ebd-4df9-988c-d79e89ebf933",
   "metadata": {},
   "outputs": [],
   "source": []
  }
 ],
 "metadata": {
  "kernelspec": {
   "display_name": "Python 3 (ipykernel)",
   "language": "python",
   "name": "python3"
  },
  "language_info": {
   "codemirror_mode": {
    "name": "ipython",
    "version": 3
   },
   "file_extension": ".py",
   "mimetype": "text/x-python",
   "name": "python",
   "nbconvert_exporter": "python",
   "pygments_lexer": "ipython3",
   "version": "3.9.13"
  }
 },
 "nbformat": 4,
 "nbformat_minor": 5
}
